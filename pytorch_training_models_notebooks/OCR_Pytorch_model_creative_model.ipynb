{
  "cells": [
    {
      "cell_type": "markdown",
      "metadata": {
        "id": "ma6Cm-_Lrh6E"
      },
      "source": [
        "### Load the dataset to work with"
      ]
    },
    {
      "cell_type": "code",
      "execution_count": null,
      "metadata": {
        "colab": {
          "base_uri": "https://localhost:8080/"
        },
        "id": "TgSeTWJJN5Lo",
        "outputId": "90b0986e-c776-4330-b115-240c6ad4e275"
      },
      "outputs": [
        {
          "output_type": "stream",
          "name": "stdout",
          "text": [
            "Mounted at /content/drive\n"
          ]
        }
      ],
      "source": [
        "from google.colab import drive\n",
        "drive.mount('/content/drive')"
      ]
    },
    {
      "cell_type": "code",
      "execution_count": null,
      "metadata": {
        "colab": {
          "base_uri": "https://localhost:8080/"
        },
        "id": "L8-949PcOAaR",
        "outputId": "1fbaa4cd-5eb9-4a99-905c-c1ad5643ce43"
      },
      "outputs": [
        {
          "output_type": "stream",
          "name": "stdout",
          "text": [
            "Collecting unrar\n",
            "  Downloading unrar-0.4-py3-none-any.whl.metadata (3.0 kB)\n",
            "Downloading unrar-0.4-py3-none-any.whl (25 kB)\n",
            "Installing collected packages: unrar\n",
            "Successfully installed unrar-0.4\n"
          ]
        }
      ],
      "source": [
        "!pip install unrar"
      ]
    },
    {
      "cell_type": "code",
      "execution_count": null,
      "metadata": {
        "colab": {
          "base_uri": "https://localhost:8080/"
        },
        "id": "OVUoIUD1A4Kt",
        "outputId": "949fa42d-f792-4094-d275-08ff2a191060"
      },
      "outputs": [
        {
          "output_type": "stream",
          "name": "stdout",
          "text": [
            "/content/drive/MyDrive/ocr_arabic_dataset.rar\n"
          ]
        }
      ],
      "source": [
        "!ls /content/drive/MyDrive/ocr_arabic_dataset.rar"
      ]
    },
    {
      "cell_type": "code",
      "execution_count": null,
      "metadata": {
        "id": "syHoj2kuAlQ7"
      },
      "outputs": [],
      "source": [
        "!cp /content/drive/MyDrive/ocr_arabic_dataset.rar /content/"
      ]
    },
    {
      "cell_type": "code",
      "execution_count": null,
      "metadata": {
        "id": "SoseI-o1OGXS"
      },
      "outputs": [],
      "source": [
        "!mkdir ocr_arabic_dataset\n",
        "!unrar x /content/drive/MyDrive/creative_arabic_digits.rar ocr_dataset/"
      ]
    },
    {
      "cell_type": "code",
      "execution_count": null,
      "metadata": {
        "id": "Sy0axac87itm",
        "colab": {
          "base_uri": "https://localhost:8080/"
        },
        "outputId": "af7681e1-1856-47d1-cf15-5239641d2b18"
      },
      "outputs": [
        {
          "output_type": "stream",
          "name": "stdout",
          "text": [
            "rm: cannot remove 'ocr_dataset.rar': No such file or directory\n"
          ]
        }
      ],
      "source": [
        "!rm -r test val train ocr_arabic_dataset ocr_dataset.rar"
      ]
    },
    {
      "cell_type": "markdown",
      "metadata": {
        "id": "bqzKgopJrtsC"
      },
      "source": [
        "### Split data into: Train, Val and Test"
      ]
    },
    {
      "cell_type": "code",
      "execution_count": null,
      "metadata": {
        "colab": {
          "base_uri": "https://localhost:8080/"
        },
        "id": "IAlEZcuXS1aR",
        "outputId": "3c72a79b-05e3-4c87-d259-c7b9d9704b60"
      },
      "outputs": [
        {
          "output_type": "stream",
          "name": "stdout",
          "text": [
            "Class '٦' split: 3500 train, 1000 val, 500 test\n",
            "Class '٧' split: 3500 train, 1000 val, 500 test\n",
            "Class '٨' split: 3500 train, 1000 val, 500 test\n",
            "Class '٠' split: 3500 train, 1000 val, 500 test\n",
            "Class '٣' split: 3500 train, 1000 val, 500 test\n",
            "Class '٥' split: 3500 train, 1000 val, 500 test\n",
            "Class '٤' split: 3500 train, 1000 val, 500 test\n",
            "Class '٩' split: 3500 train, 1000 val, 500 test\n",
            "Class '٢' split: 3500 train, 1000 val, 500 test\n",
            "Class '١' split: 3500 train, 1000 val, 500 test\n"
          ]
        }
      ],
      "source": [
        "import os\n",
        "import shutil\n",
        "import random\n",
        "\n",
        "def split_data(src_dir, train_dir, val_dir, test_dir, train_ratio=0.7, val_ratio=0.2, test_ratio=0.1):\n",
        "    \"\"\"\n",
        "    Splits data from the source directory into train, validation, and test directories.\n",
        "    Args:\n",
        "        src_dir (str): The source directory where the original images are located.\n",
        "        train_dir (str): Directory to store the training images.\n",
        "        val_dir (str): Directory to store the validation images.\n",
        "        test_dir (str): Directory to store the test images.\n",
        "        train_ratio (float): Ratio of training data.\n",
        "        val_ratio (float): Ratio of validation data.\n",
        "        test_ratio (float): Ratio of test data.\n",
        "    \"\"\"\n",
        "    # Ensure the directories exist\n",
        "    os.makedirs(train_dir, exist_ok=True)\n",
        "    os.makedirs(val_dir, exist_ok=True)\n",
        "    os.makedirs(test_dir, exist_ok=True)\n",
        "\n",
        "    # Loop through each subdirectory (which corresponds to a class)\n",
        "    for label in os.listdir(src_dir):\n",
        "        label_path = os.path.join(src_dir, label)\n",
        "        if os.path.isdir(label_path):\n",
        "            # Create subdirectories in train, val, and test directories\n",
        "            os.makedirs(os.path.join(train_dir, label), exist_ok=True)\n",
        "            os.makedirs(os.path.join(val_dir, label), exist_ok=True)\n",
        "            os.makedirs(os.path.join(test_dir, label), exist_ok=True)\n",
        "\n",
        "            # Get the list of image files\n",
        "            image_files = [f for f in os.listdir(label_path) if os.path.isfile(os.path.join(label_path, f))]\n",
        "\n",
        "            # Shuffle the image files to ensure random splitting\n",
        "            random.shuffle(image_files)\n",
        "\n",
        "            # Calculate the number of images for each split\n",
        "            total_images = len(image_files)\n",
        "            train_end = int(train_ratio * total_images)\n",
        "            val_end = int((train_ratio + val_ratio) * total_images)\n",
        "\n",
        "            # Split the data into train, val, and test\n",
        "            train_images = image_files[:train_end]\n",
        "            val_images = image_files[train_end:val_end]\n",
        "            test_images = image_files[val_end:]\n",
        "\n",
        "            # Move the images to the respective directories\n",
        "            for img in train_images:\n",
        "                shutil.move(os.path.join(label_path, img), os.path.join(train_dir, label, img))\n",
        "            for img in val_images:\n",
        "                shutil.move(os.path.join(label_path, img), os.path.join(val_dir, label, img))\n",
        "            for img in test_images:\n",
        "                shutil.move(os.path.join(label_path, img), os.path.join(test_dir, label, img))\n",
        "\n",
        "            print(f\"Class '{label}' split: {len(train_images)} train, {len(val_images)} val, {len(test_images)} test\")\n",
        "\n",
        "# Define the paths\n",
        "src_dir = 'ocr_dataset'  # Original OCR dataset directory\n",
        "train_dir = 'train'\n",
        "val_dir = 'val'\n",
        "test_dir = 'test'\n",
        "\n",
        "# Call the split function\n",
        "split_data(src_dir, train_dir, val_dir, test_dir)"
      ]
    },
    {
      "cell_type": "code",
      "execution_count": null,
      "metadata": {
        "colab": {
          "base_uri": "https://localhost:8080/"
        },
        "id": "jHwPGjamTta4",
        "outputId": "40c3bdf2-0092-40b8-9586-c17f4a6e1ef0"
      },
      "outputs": [
        {
          "output_type": "stream",
          "name": "stdout",
          "text": [
            "Train Split:\n",
            "Class '٦' has 3500 images.\n",
            "Class '٧' has 3500 images.\n",
            "Class '٨' has 3500 images.\n",
            "Class '٠' has 3500 images.\n",
            "Class '٣' has 3500 images.\n",
            "Class '٥' has 3500 images.\n",
            "Class '٤' has 3500 images.\n",
            "Class '٩' has 3500 images.\n",
            "Class '٢' has 3500 images.\n",
            "Class '١' has 3500 images.\n",
            "\n",
            "Validation Split:\n",
            "Class '٦' has 1000 images.\n",
            "Class '٧' has 1000 images.\n",
            "Class '٨' has 1000 images.\n",
            "Class '٠' has 1000 images.\n",
            "Class '٣' has 1000 images.\n",
            "Class '٥' has 1000 images.\n",
            "Class '٤' has 1000 images.\n",
            "Class '٩' has 1000 images.\n",
            "Class '٢' has 1000 images.\n",
            "Class '١' has 1000 images.\n",
            "\n",
            "Test Split:\n",
            "Class '٦' has 500 images.\n",
            "Class '٧' has 500 images.\n",
            "Class '٨' has 500 images.\n",
            "Class '٠' has 500 images.\n",
            "Class '٣' has 500 images.\n",
            "Class '٥' has 500 images.\n",
            "Class '٤' has 500 images.\n",
            "Class '٩' has 500 images.\n",
            "Class '٢' has 500 images.\n",
            "Class '١' has 500 images.\n"
          ]
        }
      ],
      "source": [
        "def check_split(dataset_dir):\n",
        "    for label in os.listdir(dataset_dir):\n",
        "        label_path = os.path.join(dataset_dir, label)\n",
        "        if os.path.isdir(label_path):\n",
        "            print(f\"Class '{label}' has {len(os.listdir(label_path))} images.\")\n",
        "\n",
        "# Check the split for train, val, and test directories\n",
        "print(\"Train Split:\")\n",
        "check_split('train')\n",
        "print(\"\\nValidation Split:\")\n",
        "check_split('val')\n",
        "print(\"\\nTest Split:\")\n",
        "check_split('test')"
      ]
    },
    {
      "cell_type": "markdown",
      "metadata": {
        "id": "F6folC5rr7kz"
      },
      "source": [
        "### Load the data splits using pytorch"
      ]
    },
    {
      "cell_type": "code",
      "execution_count": null,
      "metadata": {
        "id": "Qosefg0XV8-f"
      },
      "outputs": [],
      "source": [
        "from torch.utils.data import Dataset\n",
        "from PIL import Image\n",
        "import os\n",
        "from torch.utils.data import DataLoader\n",
        "import torchvision.transforms as transforms\n",
        "\n",
        "class OCRDataset(Dataset):\n",
        "    def __init__(self, data_dir, label_map, transform=None):\n",
        "        self.data_dir = data_dir\n",
        "        self.label_map = label_map\n",
        "        self.transform = transform\n",
        "        self.image_paths = []\n",
        "        self.labels = []\n",
        "\n",
        "        # Load images and labels from the directory structure\n",
        "        for label in os.listdir(data_dir):\n",
        "            label_path = os.path.join(data_dir, label)\n",
        "            if os.path.isdir(label_path):\n",
        "                for image_file in os.listdir(label_path):\n",
        "                    if image_file.endswith(('.png', '.jpg', '.jpeg')):  # Assuming image formats\n",
        "                        self.image_paths.append(os.path.join(label_path, image_file))\n",
        "                        self.labels.append(label)\n",
        "\n",
        "    def __len__(self):\n",
        "        return len(self.image_paths)\n",
        "\n",
        "    def __getitem__(self, idx):\n",
        "        image_path = self.image_paths[idx]\n",
        "        label = self.labels[idx]\n",
        "\n",
        "        # Open the image\n",
        "        image = Image.open(image_path).convert('RGB')\n",
        "\n",
        "        # Apply transformations if any\n",
        "        if self.transform:\n",
        "            image = self.transform(image)\n",
        "\n",
        "        # Convert the label to an integer using the label map\n",
        "        label_idx = self.label_map[label]\n",
        "        return image, label_idx\n",
        "\n",
        "# Define the transformations\n",
        "transform = transforms.Compose([\n",
        "    transforms.Resize((32, 32)),  # Resize image to 32x32\n",
        "    transforms.ToTensor(),        # Convert image to Tensor\n",
        "    transforms.Normalize((0.5,), (0.5,))  # Normalize the image to [-1, 1]\n",
        "])\n",
        "\n",
        "# Label map (updated with your digit and special character labels)\n",
        "label_map = {\n",
        "    '٠': 0, '١': 1, '٢': 2, '٣': 3, '٤': 4, '٥': 5, '٦': 6, '٧': 7, '٨': 8, '٩': 9,\n",
        "    # '9': 10, '8': 11, '7': 12, '6': 13, '5': 14, '4': 15, '3': 16, '2': 17, '1': 18, '0': 19, '__': 20\n",
        "}\n",
        "\n",
        "# Load datasets\n",
        "train_dataset = OCRDataset(data_dir='train', label_map=label_map, transform=transform)\n",
        "val_dataset = OCRDataset(data_dir='val', label_map=label_map, transform=transform)\n",
        "test_dataset = OCRDataset(data_dir='test', label_map=label_map, transform=transform)\n",
        "\n",
        "# DataLoader for training and testing\n",
        "train_loader = DataLoader(train_dataset, batch_size=32, shuffle=True)\n",
        "val_loader = DataLoader(val_dataset, batch_size=32, shuffle=False)\n",
        "test_loader = DataLoader(test_dataset, batch_size=32, shuffle=False)"
      ]
    },
    {
      "cell_type": "code",
      "execution_count": null,
      "metadata": {
        "colab": {
          "base_uri": "https://localhost:8080/",
          "height": 470
        },
        "id": "U5F_zt4mrzOc",
        "outputId": "f12cac6b-763e-4dae-87fa-cd17194b25d0"
      },
      "outputs": [
        {
          "output_type": "stream",
          "name": "stderr",
          "text": [
            "WARNING:matplotlib.image:Clipping input data to the valid range for imshow with RGB data ([0..1] for floats or [0..255] for integers).\n"
          ]
        },
        {
          "output_type": "display_data",
          "data": {
            "text/plain": [
              "<Figure size 640x480 with 1 Axes>"
            ],
            "image/png": "[encoded data removed]"
          },
          "metadata": {}
        }
      ],
      "source": [
        "import matplotlib.pyplot as plt\n",
        "import torchvision.transforms as transforms\n",
        "from torch.utils.data import DataLoader\n",
        "\n",
        "def show_nth_image(dataloader, n):\n",
        "    \"\"\"\n",
        "    Displays the nth image in the DataLoader.\n",
        "\n",
        "    Parameters:\n",
        "    - dataloader: The DataLoader containing the dataset.\n",
        "    - n: The index of the image to display.\n",
        "    \"\"\"\n",
        "    # Iterate over the DataLoader to get the nth image\n",
        "    for i, (images, labels) in enumerate(dataloader):\n",
        "        if i * dataloader.batch_size <= n < (i + 1) * dataloader.batch_size:\n",
        "            # Get the index of the image in the batch\n",
        "            index_in_batch = n - i * dataloader.batch_size\n",
        "            image = images[index_in_batch]\n",
        "            label = labels[index_in_batch]\n",
        "            break\n",
        "\n",
        "    # Convert tensor to numpy array and display\n",
        "    image = image.permute(1, 2, 0).numpy()  # Convert from (C, H, W) to (H, W, C)\n",
        "    plt.imshow(image)\n",
        "    plt.title(f'Label: {label.item()}')\n",
        "    plt.show()\n",
        "\n",
        "# Example usage:\n",
        "# Assuming 'test_loader' is your DataLoader and you want to display the 5th image:\n",
        "show_nth_image(test_loader, 5)"
      ]
    },
    {
      "cell_type": "markdown",
      "metadata": {
        "id": "IeVbR5gCsSYK"
      },
      "source": [
        "### Build custom model"
      ]
    },
    {
      "cell_type": "code",
      "execution_count": null,
      "metadata": {
        "id": "GkbCCk5eV1x1"
      },
      "outputs": [],
      "source": [
        "import torch\n",
        "import torch.nn as nn\n",
        "import torch.optim as optim\n",
        "from torch.utils.data import DataLoader\n",
        "import torchvision.transforms as transforms\n",
        "from PIL import Image\n",
        "\n",
        "\n",
        "# Define the CNN Model\n",
        "class OCRModel(nn.Module):\n",
        "    def __init__(self, num_classes=10):  # 21 classes for 10 arabic digits\n",
        "        super(OCRModel, self).__init__()\n",
        "        self.conv1 = nn.Conv2d(3, 32, kernel_size=3, stride=1, padding=1)\n",
        "        self.conv2 = nn.Conv2d(32, 64, kernel_size=3, stride=1, padding=1)\n",
        "        self.conv3 = nn.Conv2d(64, 128, kernel_size=3, stride=1, padding=1)\n",
        "        self.fc1 = nn.Linear(128 * 4 * 4, 512)  # Adjusted based on image size (32x32)\n",
        "        self.fc2 = nn.Linear(512, num_classes)\n",
        "        self.pool = nn.MaxPool2d(kernel_size=2, stride=2, padding=0)\n",
        "        self.dropout = nn.Dropout(0.5)\n",
        "\n",
        "    def forward(self, x):\n",
        "        x = self.pool(torch.relu(self.conv1(x)))\n",
        "        x = self.pool(torch.relu(self.conv2(x)))\n",
        "        x = self.pool(torch.relu(self.conv3(x)))\n",
        "        x = x.view(-1, 128 * 4 * 4)  # Flatten the image\n",
        "        x = torch.relu(self.fc1(x))\n",
        "        x = self.dropout(x)\n",
        "        x = self.fc2(x)\n",
        "        return x"
      ]
    },
    {
      "cell_type": "markdown",
      "metadata": {
        "id": "7XpFDumws_JZ"
      },
      "source": [
        "### Train and evaluation functions for the model"
      ]
    },
    {
      "cell_type": "code",
      "execution_count": null,
      "metadata": {
        "colab": {
          "base_uri": "https://localhost:8080/"
        },
        "collapsed": true,
        "id": "qNntwZj_yBHB",
        "outputId": "df831b61-3439-4744-e9f3-dbd26a00fa84"
      },
      "outputs": [
        {
          "output_type": "stream",
          "name": "stdout",
          "text": [
            "Collecting livelossplot\n",
            "  Downloading livelossplot-0.5.5-py3-none-any.whl.metadata (8.7 kB)\n",
            "Requirement already satisfied: matplotlib in /usr/local/lib/python3.10/dist-packages (from livelossplot) (3.8.0)\n",
            "Requirement already satisfied: bokeh in /usr/local/lib/python3.10/dist-packages (from livelossplot) (3.6.1)\n",
            "Requirement already satisfied: Jinja2>=2.9 in /usr/local/lib/python3.10/dist-packages (from bokeh->livelossplot) (3.1.4)\n",
            "Requirement already satisfied: contourpy>=1.2 in /usr/local/lib/python3.10/dist-packages (from bokeh->livelossplot) (1.3.1)\n",
            "Requirement already satisfied: numpy>=1.16 in /usr/local/lib/python3.10/dist-packages (from bokeh->livelossplot) (1.26.4)\n",
            "Requirement already satisfied: packaging>=16.8 in /usr/local/lib/python3.10/dist-packages (from bokeh->livelossplot) (24.2)\n",
            "Requirement already satisfied: pandas>=1.2 in /usr/local/lib/python3.10/dist-packages (from bokeh->livelossplot) (2.2.2)\n",
            "Requirement already satisfied: pillow>=7.1.0 in /usr/local/lib/python3.10/dist-packages (from bokeh->livelossplot) (11.0.0)\n",
            "Requirement already satisfied: PyYAML>=3.10 in /usr/local/lib/python3.10/dist-packages (from bokeh->livelossplot) (6.0.2)\n",
            "Requirement already satisfied: tornado>=6.2 in /usr/local/lib/python3.10/dist-packages (from bokeh->livelossplot) (6.3.3)\n",
            "Requirement already satisfied: xyzservices>=2021.09.1 in /usr/local/lib/python3.10/dist-packages (from bokeh->livelossplot) (2024.9.0)\n",
            "Requirement already satisfied: cycler>=0.10 in /usr/local/lib/python3.10/dist-packages (from matplotlib->livelossplot) (0.12.1)\n",
            "Requirement already satisfied: fonttools>=4.22.0 in /usr/local/lib/python3.10/dist-packages (from matplotlib->livelossplot) (4.55.0)\n",
            "Requirement already satisfied: kiwisolver>=1.0.1 in /usr/local/lib/python3.10/dist-packages (from matplotlib->livelossplot) (1.4.7)\n",
            "Requirement already satisfied: pyparsing>=2.3.1 in /usr/local/lib/python3.10/dist-packages (from matplotlib->livelossplot) (3.2.0)\n",
            "Requirement already satisfied: python-dateutil>=2.7 in /usr/local/lib/python3.10/dist-packages (from matplotlib->livelossplot) (2.8.2)\n",
            "Requirement already satisfied: MarkupSafe>=2.0 in /usr/local/lib/python3.10/dist-packages (from Jinja2>=2.9->bokeh->livelossplot) (3.0.2)\n",
            "Requirement already satisfied: pytz>=2020.1 in /usr/local/lib/python3.10/dist-packages (from pandas>=1.2->bokeh->livelossplot) (2024.2)\n",
            "Requirement already satisfied: tzdata>=2022.7 in /usr/local/lib/python3.10/dist-packages (from pandas>=1.2->bokeh->livelossplot) (2024.2)\n",
            "Requirement already satisfied: six>=1.5 in /usr/local/lib/python3.10/dist-packages (from python-dateutil>=2.7->matplotlib->livelossplot) (1.16.0)\n",
            "Downloading livelossplot-0.5.5-py3-none-any.whl (22 kB)\n",
            "Installing collected packages: livelossplot\n",
            "Successfully installed livelossplot-0.5.5\n"
          ]
        }
      ],
      "source": [
        "!pip install livelossplot"
      ]
    },
    {
      "cell_type": "code",
      "execution_count": null,
      "metadata": {
        "id": "pERipMVHtrct"
      },
      "outputs": [],
      "source": [
        "import torch\n",
        "import numpy as np\n",
        "from livelossplot import PlotLosses\n",
        "from livelossplot.outputs import MatplotlibPlot\n",
        "from tqdm import tqdm\n",
        "import json\n",
        "\n",
        "\n",
        "def train_one_epoch(train_dataloader, model, optimizer, loss_fn):\n",
        "    model.train()\n",
        "    train_loss = 0.0\n",
        "    correct = 0\n",
        "    total = 0\n",
        "\n",
        "    for inputs, targets in train_dataloader:\n",
        "        optimizer.zero_grad()\n",
        "\n",
        "        # Forward pass\n",
        "        outputs = model(inputs)\n",
        "\n",
        "        # Compute loss\n",
        "        loss = loss_fn(outputs, targets)\n",
        "        loss.backward()\n",
        "        optimizer.step()\n",
        "\n",
        "        # Calculate accuracy\n",
        "        _, predicted = torch.max(outputs, 1)\n",
        "        total += targets.size(0)\n",
        "        correct += (predicted == targets).sum().item()\n",
        "\n",
        "        train_loss += loss.item()\n",
        "\n",
        "    accuracy = 100 * correct / total\n",
        "    return train_loss / len(train_dataloader), accuracy\n",
        "\n",
        "\n",
        "def valid_one_epoch(valid_dataloader, model, loss_fn):\n",
        "    model.eval()\n",
        "    valid_loss = 0.0\n",
        "    correct = 0\n",
        "    total = 0\n",
        "\n",
        "    with torch.no_grad():\n",
        "        for inputs, targets in valid_dataloader:\n",
        "            outputs = model(inputs)\n",
        "            loss = loss_fn(outputs, targets)\n",
        "\n",
        "            # Calculate accuracy\n",
        "            _, predicted = torch.max(outputs, 1)\n",
        "            total += targets.size(0)\n",
        "            correct += (predicted == targets).sum().item()\n",
        "\n",
        "            valid_loss += loss.item()\n",
        "\n",
        "    accuracy = 100 * correct / total\n",
        "    return valid_loss / len(valid_dataloader), accuracy\n",
        "\n",
        "\n",
        "\n",
        "def optimize(data_loaders, model, optimizer, loss_fn, n_epochs, save_path, json_log_path=\"performance.json\", interactive_tracking=False, patience=3):\n",
        "    # Initialize tracker for minimum validation loss\n",
        "    if interactive_tracking:\n",
        "        liveloss = PlotLosses(outputs=[MatplotlibPlot()])  # For interactive loss tracking\n",
        "    else:\n",
        "        liveloss = None\n",
        "\n",
        "    valid_loss_min = None\n",
        "    logs = {}\n",
        "\n",
        "    # Learning rate scheduler: setup a learning rate scheduler\n",
        "    scheduler = torch.optim.lr_scheduler.ReduceLROnPlateau(optimizer, 'min', threshold=0.01)\n",
        "\n",
        "    # Initialize variables to hold the last epoch's metrics\n",
        "    last_epoch_metrics = {}\n",
        "\n",
        "    for epoch in range(1, n_epochs + 1):\n",
        "        # Training with tqdm progress bar\n",
        "        model.train()  # Set model to training mode\n",
        "        train_loss, train_accuracy = 0, 0\n",
        "        train_steps = len(data_loaders[\"train\"])\n",
        "\n",
        "        with tqdm(total=train_steps, desc=f\"Epoch {epoch} Train\", ncols=100) as pbar:\n",
        "            for batch_idx, (data, target) in enumerate(data_loaders[\"train\"]):\n",
        "                optimizer.zero_grad()\n",
        "                output = model(data)\n",
        "                loss = loss_fn(output, target)\n",
        "                loss.backward()\n",
        "                optimizer.step()\n",
        "\n",
        "                # Calculate accuracy\n",
        "                pred = output.argmax(dim=1, keepdim=True)\n",
        "                correct = pred.eq(target.view_as(pred)).sum().item()\n",
        "                train_accuracy += correct / len(data)  # Update accuracy for each batch\n",
        "\n",
        "                train_loss += loss.item()  # Accumulate loss\n",
        "                pbar.set_postfix(loss=train_loss / (batch_idx + 1), accuracy=train_accuracy / (batch_idx + 1) * 100)\n",
        "                pbar.update(1)\n",
        "\n",
        "        # Validation with tqdm progress bar\n",
        "        model.eval()  # Set model to evaluation mode\n",
        "        valid_loss, valid_accuracy = 0, 0\n",
        "        valid_steps = len(data_loaders[\"valid\"])\n",
        "\n",
        "        with tqdm(total=valid_steps, desc=f\"Epoch {epoch} Valid\", ncols=100) as pbar:\n",
        "            with torch.no_grad():\n",
        "                for batch_idx, (data, target) in enumerate(data_loaders[\"valid\"]):\n",
        "                    output = model(data)\n",
        "                    loss = loss_fn(output, target)\n",
        "\n",
        "                    # Calculate accuracy\n",
        "                    pred = output.argmax(dim=1, keepdim=True)\n",
        "                    correct = pred.eq(target.view_as(pred)).sum().item()\n",
        "                    valid_accuracy += correct / len(data)  # Update accuracy for each batch\n",
        "\n",
        "                    valid_loss += loss.item()  # Accumulate loss\n",
        "                    pbar.set_postfix(loss=valid_loss / (batch_idx + 1), accuracy=valid_accuracy / (batch_idx + 1) * 100)\n",
        "                    pbar.update(1)\n",
        "\n",
        "        # Print training/validation statistics\n",
        "        print(\n",
        "            \"Epoch: {} \\tTraining Loss: {:.6f} \\tValidation Loss: {:.6f} \\tTraining Accuracy: {:.2f}% \\tValidation Accuracy: {:.2f}%\".format(\n",
        "                epoch, train_loss / train_steps, valid_loss / valid_steps, train_accuracy / train_steps * 100, valid_accuracy / valid_steps * 100\n",
        "            )\n",
        "        )\n",
        "\n",
        "        # Store the last epoch's metrics\n",
        "        last_epoch_metrics = {\n",
        "            \"train_accuracy\": train_accuracy / train_steps * 100,\n",
        "            \"valid_accuracy\": valid_accuracy / valid_steps * 100,\n",
        "            \"train_loss\": train_loss / train_steps,\n",
        "            \"valid_loss\": valid_loss / valid_steps,\n",
        "            \"learning_rate\": optimizer.param_groups[0][\"lr\"]\n",
        "        }\n",
        "\n",
        "        # If the validation loss decreases by more than 1%, save the model\n",
        "        if valid_loss_min is None or ((valid_loss_min - valid_loss / valid_steps) / valid_loss_min > 0.01):\n",
        "            print(f\"New minimum validation loss: {valid_loss:.6f}. Saving model ...\")\n",
        "            torch.save(model.state_dict(), save_path)\n",
        "            valid_loss_min = valid_loss / valid_steps\n",
        "\n",
        "        # Update learning rate using scheduler\n",
        "        scheduler.step(valid_loss / valid_steps)\n",
        "\n",
        "        # Log to interactive tracker (if active)\n",
        "        if interactive_tracking:\n",
        "            logs[\"loss\"] = train_loss / train_steps\n",
        "            logs[\"val_loss\"] = valid_loss / valid_steps\n",
        "            logs[\"lr\"] = optimizer.param_groups[0][\"lr\"]\n",
        "\n",
        "            liveloss.update(logs)\n",
        "            liveloss.send()\n",
        "\n",
        "    # After all epochs, save the last epoch's metrics to the JSON file\n",
        "    with open(json_log_path, 'w') as f:\n",
        "        json.dump(last_epoch_metrics, f, indent=4)\n",
        "\n",
        "    print(f\"Last epoch's metrics saved to {json_log_path}\")\n",
        "\n",
        "\n",
        "\n",
        "\n",
        "\n",
        "\n",
        "\n",
        "def one_epoch_test(test_dataloader, model, loss):\n",
        "    # monitor test loss and accuracy\n",
        "    test_loss = 0.\n",
        "    correct = 0.\n",
        "    total = 0.\n",
        "\n",
        "    # set the module to evaluation mode\n",
        "    with torch.no_grad():\n",
        "\n",
        "        # set the model to evaluation mode\n",
        "        model.eval()\n",
        "\n",
        "        if torch.cuda.is_available():\n",
        "            model = model.cuda()\n",
        "\n",
        "        for batch_idx, (data, target) in tqdm(\n",
        "                enumerate(test_dataloader),\n",
        "                desc='Testing',\n",
        "                total=len(test_dataloader),\n",
        "                leave=True,\n",
        "                ncols=80\n",
        "        ):\n",
        "            # move data to GPU\n",
        "            if torch.cuda.is_available():\n",
        "                data, target = data.cuda(), target.cuda()\n",
        "\n",
        "            # 1. forward pass: compute predicted outputs by passing inputs to the model\n",
        "            logits  = model(data)\n",
        "            # 2. calculate the loss\n",
        "            loss_value = loss(logits, target)\n",
        "\n",
        "            # update average test loss\n",
        "            test_loss = test_loss + (\n",
        "                (1 / (batch_idx + 1)) * (loss_value.data.item() - test_loss)\n",
        "            )\n",
        "\n",
        "            # Convert logits to probabilities and then to predicted class\n",
        "            probabilities = torch.softmax(logits, dim=1)\n",
        "            predicted_classes = torch.argmax(probabilities, dim=1)\n",
        "\n",
        "            # Count correct predictions\n",
        "            correct += (predicted_classes == target).sum().item()\n",
        "            total += target.size(0)\n",
        "\n",
        "    # Calculate accuracy\n",
        "    accuracy = 100. * correct / total\n",
        "    print(f'Test Loss: {test_loss:.6f}')\n",
        "    print(f'Test Accuracy: {accuracy:.2f}%')\n",
        "\n",
        "    return test_loss, accuracy"
      ]
    },
    {
      "cell_type": "markdown",
      "metadata": {
        "id": "aCxjvDObuyhp"
      },
      "source": [
        "### Start Training"
      ]
    },
    {
      "cell_type": "code",
      "execution_count": null,
      "metadata": {
        "colab": {
          "base_uri": "https://localhost:8080/"
        },
        "id": "N71GnTqx92uv",
        "outputId": "a8c160fd-b3a3-4ab5-e4c0-de9ef8289413"
      },
      "outputs": [
        {
          "output_type": "stream",
          "name": "stdout",
          "text": [
            "/content\n"
          ]
        }
      ],
      "source": [
        "!pwd"
      ]
    },
    {
      "cell_type": "code",
      "source": [
        "my_model = OCRModel(num_classes=len(label_map))"
      ],
      "metadata": {
        "id": "3M7m0BSa4w95"
      },
      "execution_count": null,
      "outputs": []
    },
    {
      "cell_type": "code",
      "source": [
        "# Load the model state dictionary\n",
        "checkpoint_path = 'best_ocr_model.pth'\n",
        "state_dict = torch.load(checkpoint_path)\n",
        "\n",
        "# Load weights into the model\n",
        "my_model.load_state_dict(state_dict)\n",
        "\n",
        "# Set the model to training mode\n",
        "my_model.train()"
      ],
      "metadata": {
        "colab": {
          "base_uri": "https://localhost:8080/"
        },
        "id": "bTxomOX_5OqR",
        "outputId": "a08df53f-c897-4400-c1fd-59b217aee788"
      },
      "execution_count": null,
      "outputs": [
        {
          "output_type": "stream",
          "name": "stderr",
          "text": [
            "<ipython-input-21-aabda7574c05>:3: FutureWarning: You are using `torch.load` with `weights_only=False` (the current default value), which uses the default pickle module implicitly. It is possible to construct malicious pickle data which will execute arbitrary code during unpickling (See https://github.com/pytorch/pytorch/blob/main/SECURITY.md#untrusted-models for more details). In a future release, the default value for `weights_only` will be flipped to `True`. This limits the functions that could be executed during unpickling. Arbitrary objects will no longer be allowed to be loaded via this mode unless they are explicitly allowlisted by the user via `torch.serialization.add_safe_globals`. We recommend you start setting `weights_only=True` for any use case where you don't have full control of the loaded file. Please open an issue on GitHub for any issues related to this experimental feature.\n",
            "  state_dict = torch.load(checkpoint_path)\n"
          ]
        },
        {
          "output_type": "execute_result",
          "data": {
            "text/plain": [
              "OCRModel(\n",
              "  (conv1): Conv2d(3, 32, kernel_size=(3, 3), stride=(1, 1), padding=(1, 1))\n",
              "  (conv2): Conv2d(32, 64, kernel_size=(3, 3), stride=(1, 1), padding=(1, 1))\n",
              "  (conv3): Conv2d(64, 128, kernel_size=(3, 3), stride=(1, 1), padding=(1, 1))\n",
              "  (fc1): Linear(in_features=2048, out_features=512, bias=True)\n",
              "  (fc2): Linear(in_features=512, out_features=10, bias=True)\n",
              "  (pool): MaxPool2d(kernel_size=2, stride=2, padding=0, dilation=1, ceil_mode=False)\n",
              "  (dropout): Dropout(p=0.5, inplace=False)\n",
              ")"
            ]
          },
          "metadata": {},
          "execution_count": 21
        }
      ]
    },
    {
      "cell_type": "code",
      "execution_count": null,
      "metadata": {
        "colab": {
          "base_uri": "https://localhost:8080/",
          "height": 1000
        },
        "id": "yj3STXhuwiqq",
        "outputId": "9fe12a2d-eaad-453a-e787-46390b094c47"
      },
      "outputs": [
        {
          "output_type": "display_data",
          "data": {
            "text/plain": [
              "<Figure size 1200x800 with 2 Axes>"
            ],
            "image/png": "[encoded data removed]"
          },
          "metadata": {}
        },
        {
          "output_type": "stream",
          "name": "stderr",
          "text": [
            "Epoch 13 Train:  18%|███▍               | 196/1094 [00:21<01:38,  9.10it/s, accuracy=96, loss=0.082]\n"
          ]
        },
        {
          "output_type": "error",
          "ename": "KeyboardInterrupt",
          "evalue": "",
          "traceback": [
            "\u001b[0;31m---------------------------------------------------------------------------\u001b[0m",
            "\u001b[0;31mKeyboardInterrupt\u001b[0m                         Traceback (most recent call last)",
            "\u001b[0;32m<ipython-input-22-0200f784bd91>\u001b[0m in \u001b[0;36m<cell line: 1>\u001b[0;34m()\u001b[0m\n\u001b[0;32m----> 1\u001b[0;31m optimize(\n\u001b[0m\u001b[1;32m      2\u001b[0m     data_loaders={\n\u001b[1;32m      3\u001b[0m         \u001b[0;34m\"train\"\u001b[0m\u001b[0;34m:\u001b[0m \u001b[0mtrain_loader\u001b[0m\u001b[0;34m,\u001b[0m\u001b[0;34m\u001b[0m\u001b[0;34m\u001b[0m\u001b[0m\n\u001b[1;32m      4\u001b[0m         \u001b[0;34m\"valid\"\u001b[0m\u001b[0;34m:\u001b[0m \u001b[0mval_loader\u001b[0m\u001b[0;34m\u001b[0m\u001b[0;34m\u001b[0m\u001b[0m\n\u001b[1;32m      5\u001b[0m     },\n",
            "\u001b[0;32m<ipython-input-13-e69e4fee9922>\u001b[0m in \u001b[0;36moptimize\u001b[0;34m(data_loaders, model, optimizer, loss_fn, n_epochs, save_path, json_log_path, interactive_tracking, patience)\u001b[0m\n\u001b[1;32m     85\u001b[0m                 \u001b[0moutput\u001b[0m \u001b[0;34m=\u001b[0m \u001b[0mmodel\u001b[0m\u001b[0;34m(\u001b[0m\u001b[0mdata\u001b[0m\u001b[0;34m)\u001b[0m\u001b[0;34m\u001b[0m\u001b[0;34m\u001b[0m\u001b[0m\n\u001b[1;32m     86\u001b[0m                 \u001b[0mloss\u001b[0m \u001b[0;34m=\u001b[0m \u001b[0mloss_fn\u001b[0m\u001b[0;34m(\u001b[0m\u001b[0moutput\u001b[0m\u001b[0;34m,\u001b[0m \u001b[0mtarget\u001b[0m\u001b[0;34m)\u001b[0m\u001b[0;34m\u001b[0m\u001b[0;34m\u001b[0m\u001b[0m\n\u001b[0;32m---> 87\u001b[0;31m                 \u001b[0mloss\u001b[0m\u001b[0;34m.\u001b[0m\u001b[0mbackward\u001b[0m\u001b[0;34m(\u001b[0m\u001b[0;34m)\u001b[0m\u001b[0;34m\u001b[0m\u001b[0;34m\u001b[0m\u001b[0m\n\u001b[0m\u001b[1;32m     88\u001b[0m                 \u001b[0moptimizer\u001b[0m\u001b[0;34m.\u001b[0m\u001b[0mstep\u001b[0m\u001b[0;34m(\u001b[0m\u001b[0;34m)\u001b[0m\u001b[0;34m\u001b[0m\u001b[0;34m\u001b[0m\u001b[0m\n\u001b[1;32m     89\u001b[0m \u001b[0;34m\u001b[0m\u001b[0m\n",
            "\u001b[0;32m/usr/local/lib/python3.10/dist-packages/torch/_tensor.py\u001b[0m in \u001b[0;36mbackward\u001b[0;34m(self, gradient, retain_graph, create_graph, inputs)\u001b[0m\n\u001b[1;32m    579\u001b[0m                 \u001b[0minputs\u001b[0m\u001b[0;34m=\u001b[0m\u001b[0minputs\u001b[0m\u001b[0;34m,\u001b[0m\u001b[0;34m\u001b[0m\u001b[0;34m\u001b[0m\u001b[0m\n\u001b[1;32m    580\u001b[0m             )\n\u001b[0;32m--> 581\u001b[0;31m         torch.autograd.backward(\n\u001b[0m\u001b[1;32m    582\u001b[0m             \u001b[0mself\u001b[0m\u001b[0;34m,\u001b[0m \u001b[0mgradient\u001b[0m\u001b[0;34m,\u001b[0m \u001b[0mretain_graph\u001b[0m\u001b[0;34m,\u001b[0m \u001b[0mcreate_graph\u001b[0m\u001b[0;34m,\u001b[0m \u001b[0minputs\u001b[0m\u001b[0;34m=\u001b[0m\u001b[0minputs\u001b[0m\u001b[0;34m\u001b[0m\u001b[0;34m\u001b[0m\u001b[0m\n\u001b[1;32m    583\u001b[0m         )\n",
            "\u001b[0;32m/usr/local/lib/python3.10/dist-packages/torch/autograd/__init__.py\u001b[0m in \u001b[0;36mbackward\u001b[0;34m(tensors, grad_tensors, retain_graph, create_graph, grad_variables, inputs)\u001b[0m\n\u001b[1;32m    345\u001b[0m     \u001b[0;31m# some Python versions print out the first line of a multi-line function\u001b[0m\u001b[0;34m\u001b[0m\u001b[0;34m\u001b[0m\u001b[0m\n\u001b[1;32m    346\u001b[0m     \u001b[0;31m# calls in the traceback and some print out the last line\u001b[0m\u001b[0;34m\u001b[0m\u001b[0;34m\u001b[0m\u001b[0m\n\u001b[0;32m--> 347\u001b[0;31m     _engine_run_backward(\n\u001b[0m\u001b[1;32m    348\u001b[0m         \u001b[0mtensors\u001b[0m\u001b[0;34m,\u001b[0m\u001b[0;34m\u001b[0m\u001b[0;34m\u001b[0m\u001b[0m\n\u001b[1;32m    349\u001b[0m         \u001b[0mgrad_tensors_\u001b[0m\u001b[0;34m,\u001b[0m\u001b[0;34m\u001b[0m\u001b[0;34m\u001b[0m\u001b[0m\n",
            "\u001b[0;32m/usr/local/lib/python3.10/dist-packages/torch/autograd/graph.py\u001b[0m in \u001b[0;36m_engine_run_backward\u001b[0;34m(t_outputs, *args, **kwargs)\u001b[0m\n\u001b[1;32m    823\u001b[0m         \u001b[0munregister_hooks\u001b[0m \u001b[0;34m=\u001b[0m \u001b[0m_register_logging_hooks_on_whole_graph\u001b[0m\u001b[0;34m(\u001b[0m\u001b[0mt_outputs\u001b[0m\u001b[0;34m)\u001b[0m\u001b[0;34m\u001b[0m\u001b[0;34m\u001b[0m\u001b[0m\n\u001b[1;32m    824\u001b[0m     \u001b[0;32mtry\u001b[0m\u001b[0;34m:\u001b[0m\u001b[0;34m\u001b[0m\u001b[0;34m\u001b[0m\u001b[0m\n\u001b[0;32m--> 825\u001b[0;31m         return Variable._execution_engine.run_backward(  # Calls into the C++ engine to run the backward pass\n\u001b[0m\u001b[1;32m    826\u001b[0m             \u001b[0mt_outputs\u001b[0m\u001b[0;34m,\u001b[0m \u001b[0;34m*\u001b[0m\u001b[0margs\u001b[0m\u001b[0;34m,\u001b[0m \u001b[0;34m**\u001b[0m\u001b[0mkwargs\u001b[0m\u001b[0;34m\u001b[0m\u001b[0;34m\u001b[0m\u001b[0m\n\u001b[1;32m    827\u001b[0m         )  # Calls into the C++ engine to run the backward pass\n",
            "\u001b[0;31mKeyboardInterrupt\u001b[0m: "
          ]
        }
      ],
      "source": [
        "\n",
        "optimize(\n",
        "    data_loaders={\n",
        "        \"train\": train_loader,\n",
        "        \"valid\": val_loader\n",
        "    },\n",
        "    model=my_model,\n",
        "    optimizer=torch.optim.Adam(my_model.parameters(), lr=0.0001),\n",
        "    loss_fn=torch.nn.CrossEntropyLoss(),\n",
        "    n_epochs=50,\n",
        "    save_path=\"best_ocr_model.pth\",\n",
        "    interactive_tracking=True,\n",
        "    patience=5\n",
        ")"
      ]
    },
    {
      "cell_type": "code",
      "execution_count": null,
      "metadata": {
        "colab": {
          "base_uri": "https://localhost:8080/"
        },
        "id": "J-OGCRvMEqOh",
        "outputId": "7604eb77-232b-4920-988a-c1885f7e93a6"
      },
      "outputs": [
        {
          "output_type": "stream",
          "name": "stderr",
          "text": [
            "Testing: 100%|████████████████████████████████| 157/157 [00:09<00:00, 15.71it/s]"
          ]
        },
        {
          "output_type": "stream",
          "name": "stdout",
          "text": [
            "Test Loss: 0.084913\n",
            "Test Accuracy: 95.74%\n"
          ]
        },
        {
          "output_type": "stream",
          "name": "stderr",
          "text": [
            "\n"
          ]
        },
        {
          "output_type": "execute_result",
          "data": {
            "text/plain": [
              "(0.0849129994905803, 95.74)"
            ]
          },
          "metadata": {},
          "execution_count": 23
        }
      ],
      "source": [
        "one_epoch_test(test_loader, my_model, torch.nn.CrossEntropyLoss())"
      ]
    },
    {
      "cell_type": "markdown",
      "metadata": {
        "id": "jYaAPBHL-MfD"
      },
      "source": [
        "- after training the code with 5000 digits per each arabic digit, it works perfect on the testing images for all classes, but when talking about `.` and `٥`in arabic digits or `٦` and `٩` digits, there's confliction in prediction with external data.\n",
        "\n",
        "- I decided to:\n",
        "  - create a creative data, I'm going to generate data with 5000 samples per each arabic digit as before, but for the digit `٥` I'm going to use 500 images from the generated data, 2000 english `0` digit, non MNIST handwritten dataset and 2500 `o` english letter, as this may makes the `٥` in arabic more unique than `.` arabic zero for the model.\n",
        "\n",
        "    '٠': 0, '١': 1, '٢': 2, '٣': 3, '٤': 4, '٥': 5, '٦': 6, '٧': 7, '٨': 8, '٩': 9,\n",
        "  - create 350 arabic `٩` digit, and 4650 samples from the english `9` handwritten non MNIST dataset."
      ]
    },
    {
      "cell_type": "markdown",
      "metadata": {
        "id": "NYIgo2tL-frP"
      },
      "source": [
        "### Convert the model to jit for better deployment"
      ]
    },
    {
      "cell_type": "code",
      "execution_count": null,
      "metadata": {
        "id": "LQoRR-3hrE2b"
      },
      "outputs": [],
      "source": [
        "# Example input tensor (batch_size=1, 3 channels, 32x32 image size)\n",
        "example_input = torch.randn(1, 3, 32, 32)\n",
        "\n",
        "# Trace the model (since the model is sequential, tracing should work fine)\n",
        "traced_model = torch.jit.trace(my_model, example_input)\n",
        "\n",
        "# Save the traced model\n",
        "traced_model.save(\"ocr_model_traced.pt\")\n",
        "\n",
        "# Alternatively, you could script the model if it has control flow:\n",
        "# scripted_model = torch.jit.script(model)\n",
        "# scripted_model.save(\"ocr_model_scripted.pt\")"
      ]
    },
    {
      "cell_type": "markdown",
      "metadata": {
        "id": "Akgr0fdNrFSo"
      },
      "source": [
        "Load the model and make predictions"
      ]
    },
    {
      "cell_type": "code",
      "execution_count": null,
      "metadata": {
        "id": "3deY4CmjrIKP"
      },
      "outputs": [],
      "source": [
        "# Label map (updated with your digit and special character labels)\n",
        "label_map = {\n",
        "    '٠': 0, '١': 1, '٢': 2, '٣': 3, '٤': 4, '٥': 5, '٦': 6, '٧': 7, '٨': 8, '٩': 9,\n",
        "    #'9': 10, '8': 11, '7': 12, '6': 13, '5': 14, '4': 15, '3': 16, '2': 17, '1': 18, '0': 19, '/': 20\n",
        "}"
      ]
    },
    {
      "cell_type": "code",
      "execution_count": null,
      "metadata": {
        "id": "SPYY4BiYF4p5"
      },
      "outputs": [],
      "source": [
        "# Define the transformations\n",
        "transform = transforms.Compose([\n",
        "    transforms.Resize((32, 32)),  # Resize image to 32x32\n",
        "    transforms.ToTensor(),        # Convert image to Tensor\n",
        "    transforms.Normalize((0.5,), (0.5,))  # Normalize the image to [-1, 1]\n",
        "])"
      ]
    },
    {
      "cell_type": "code",
      "execution_count": null,
      "metadata": {
        "colab": {
          "base_uri": "https://localhost:8080/",
          "height": 347
        },
        "id": "x7IY8lKdFZFN",
        "outputId": "5d9f96d1-c895-4bb2-8f2a-0c6b4e589399"
      },
      "outputs": [
        {
          "output_type": "error",
          "ename": "FileNotFoundError",
          "evalue": "[Errno 2] No such file or directory: '/content/test/٣/٣_1026.png'",
          "traceback": [
            "\u001b[0;31m---------------------------------------------------------------------------\u001b[0m",
            "\u001b[0;31mFileNotFoundError\u001b[0m                         Traceback (most recent call last)",
            "\u001b[0;32m<ipython-input-28-7a672f8201b8>\u001b[0m in \u001b[0;36m<cell line: 11>\u001b[0;34m()\u001b[0m\n\u001b[1;32m      9\u001b[0m \u001b[0;31m# Step 3: Load the image\u001b[0m\u001b[0;34m\u001b[0m\u001b[0;34m\u001b[0m\u001b[0m\n\u001b[1;32m     10\u001b[0m \u001b[0mimage_path\u001b[0m \u001b[0;34m=\u001b[0m \u001b[0;34m'/content/test/٣/٣_1026.png'\u001b[0m  \u001b[0;31m# Replace with your image path\u001b[0m\u001b[0;34m\u001b[0m\u001b[0;34m\u001b[0m\u001b[0m\n\u001b[0;32m---> 11\u001b[0;31m \u001b[0mimage\u001b[0m \u001b[0;34m=\u001b[0m \u001b[0mImage\u001b[0m\u001b[0;34m.\u001b[0m\u001b[0mopen\u001b[0m\u001b[0;34m(\u001b[0m\u001b[0mimage_path\u001b[0m\u001b[0;34m)\u001b[0m\u001b[0;34m.\u001b[0m\u001b[0mconvert\u001b[0m\u001b[0;34m(\u001b[0m\u001b[0;34m'RGB'\u001b[0m\u001b[0;34m)\u001b[0m  \u001b[0;31m# Ensure it's in RGB format\u001b[0m\u001b[0;34m\u001b[0m\u001b[0;34m\u001b[0m\u001b[0m\n\u001b[0m\u001b[1;32m     12\u001b[0m \u001b[0;34m\u001b[0m\u001b[0m\n\u001b[1;32m     13\u001b[0m \u001b[0;31m# Step 4: Apply the transformation\u001b[0m\u001b[0;34m\u001b[0m\u001b[0;34m\u001b[0m\u001b[0m\n",
            "\u001b[0;32m/usr/local/lib/python3.10/dist-packages/PIL/Image.py\u001b[0m in \u001b[0;36mopen\u001b[0;34m(fp, mode, formats)\u001b[0m\n\u001b[1;32m   3467\u001b[0m \u001b[0;34m\u001b[0m\u001b[0m\n\u001b[1;32m   3468\u001b[0m     \u001b[0;32mif\u001b[0m \u001b[0mfilename\u001b[0m\u001b[0;34m:\u001b[0m\u001b[0;34m\u001b[0m\u001b[0;34m\u001b[0m\u001b[0m\n\u001b[0;32m-> 3469\u001b[0;31m         \u001b[0mfp\u001b[0m \u001b[0;34m=\u001b[0m \u001b[0mbuiltins\u001b[0m\u001b[0;34m.\u001b[0m\u001b[0mopen\u001b[0m\u001b[0;34m(\u001b[0m\u001b[0mfilename\u001b[0m\u001b[0;34m,\u001b[0m \u001b[0;34m\"rb\"\u001b[0m\u001b[0;34m)\u001b[0m\u001b[0;34m\u001b[0m\u001b[0;34m\u001b[0m\u001b[0m\n\u001b[0m\u001b[1;32m   3470\u001b[0m         \u001b[0mexclusive_fp\u001b[0m \u001b[0;34m=\u001b[0m \u001b[0;32mTrue\u001b[0m\u001b[0;34m\u001b[0m\u001b[0;34m\u001b[0m\u001b[0m\n\u001b[1;32m   3471\u001b[0m     \u001b[0;32melse\u001b[0m\u001b[0;34m:\u001b[0m\u001b[0;34m\u001b[0m\u001b[0;34m\u001b[0m\u001b[0m\n",
            "\u001b[0;31mFileNotFoundError\u001b[0m: [Errno 2] No such file or directory: '/content/test/٣/٣_1026.png'"
          ]
        }
      ],
      "source": [
        "import torch\n",
        "from PIL import Image\n",
        "from torchvision import transforms\n",
        "\n",
        "# Step 1: Load the JIT model\n",
        "loaded_model = torch.jit.load('ocr_model_traced.pt')\n",
        "loaded_model.eval()  # Set to evaluation mode\n",
        "\n",
        "# Step 3: Load the image\n",
        "image_path = '/content/test/٣/٣_1026.png'  # Replace with your image path\n",
        "image = Image.open(image_path).convert('RGB')  # Ensure it's in RGB format\n",
        "\n",
        "# Step 4: Apply the transformation\n",
        "input_tensor = transform(image).unsqueeze(0)  # Add batch dimension (unsqueeze(0))\n",
        "\n",
        "# Step 5: Make prediction\n",
        "with torch.no_grad():  # No need for gradients during inference\n",
        "    output = loaded_model(input_tensor)\n",
        "\n",
        "# Step 6: Get predicted class\n",
        "_, predicted_class = torch.max(output, 1)\n",
        "\n",
        "# Step 7: Print or process the result\n",
        "print(f\"Predicted class: {predicted_class.item()}\")"
      ]
    },
    {
      "cell_type": "code",
      "execution_count": null,
      "metadata": {
        "id": "Dboc-MZDG992"
      },
      "outputs": [],
      "source": [
        "def predict_oc_image(label_map, loaded_model, image_path):\n",
        "  # Define the transformations\n",
        "  transform = transforms.Compose([\n",
        "      transforms.Resize((32, 32)),  # Resize image to 32x32\n",
        "      transforms.ToTensor(),        # Convert image to Tensor\n",
        "      transforms.Normalize((0.5,), (0.5,))  # Normalize the image to [-1, 1]\n",
        "  ])\n",
        "\n",
        "  # Step 3: Load the image\n",
        "  image = Image.open(image_path).convert('RGB')  # Ensure it's in RGB format\n",
        "\n",
        "  # Step 4: Apply the transformation\n",
        "  input_tensor = transform(image).unsqueeze(0)  # Add batch dimension (unsqueeze(0))\n",
        "\n",
        "  # Step 5: Make prediction\n",
        "  with torch.no_grad():  # No need for gradients during inference\n",
        "      output = loaded_model(input_tensor)\n",
        "\n",
        "  # Step 6: Get predicted class\n",
        "  _, predicted_class = torch.max(output, 1)\n",
        "\n",
        "  inverted_dict = {v: k for k, v in label_map.items()}\n",
        "\n",
        "  # Step 7: Print or process the result\n",
        "  print(f\"Predicted class: {inverted_dict[predicted_class.item()]}\")"
      ]
    },
    {
      "cell_type": "code",
      "execution_count": null,
      "metadata": {
        "colab": {
          "base_uri": "https://localhost:8080/"
        },
        "id": "aBpEtq0wH5gU",
        "outputId": "787c2a34-8497-486d-c2a6-d7bbe7fd0c01"
      },
      "outputs": [
        {
          "name": "stdout",
          "output_type": "stream",
          "text": [
            "Predicted class: ١\n"
          ]
        }
      ],
      "source": [
        "predict_oc_image(label_map, loaded_model, '/content/digit_1.png')"
      ]
    },
    {
      "cell_type": "code",
      "execution_count": null,
      "metadata": {
        "colab": {
          "base_uri": "https://localhost:8080/"
        },
        "id": "zdGe6UCQICav",
        "outputId": "bbbf2314-d7a5-4dce-c24e-bb80c7079bf2"
      },
      "outputs": [
        {
          "name": "stdout",
          "output_type": "stream",
          "text": [
            "Predicted class: ٥\n"
          ]
        }
      ],
      "source": [
        "predict_oc_image(label_map, loaded_model, '/content/test/٥/٥_1039.png')"
      ]
    },
    {
      "cell_type": "code",
      "execution_count": null,
      "metadata": {
        "colab": {
          "base_uri": "https://localhost:8080/"
        },
        "id": "Fxh2ttSTJzhh",
        "outputId": "5b43595f-01b6-4519-a558-b095c90ccbe6"
      },
      "outputs": [
        {
          "name": "stdout",
          "output_type": "stream",
          "text": [
            "Predicted class: ٠\n"
          ]
        }
      ],
      "source": [
        "predict_oc_image(label_map, loaded_model, '/content/digit_3.png')"
      ]
    },
    {
      "cell_type": "code",
      "execution_count": null,
      "metadata": {
        "colab": {
          "base_uri": "https://localhost:8080/"
        },
        "id": "4LBCbCOVW3jC",
        "outputId": "427d29a3-b404-4ef0-e715-b4d28b7a4598"
      },
      "outputs": [
        {
          "name": "stdout",
          "output_type": "stream",
          "text": [
            "Predicted class: ٦\n"
          ]
        }
      ],
      "source": [
        "predict_oc_image(label_map, loaded_model, '/content/test/٦/٦_1058.png')"
      ]
    },
    {
      "cell_type": "code",
      "execution_count": null,
      "metadata": {
        "colab": {
          "base_uri": "https://localhost:8080/"
        },
        "id": "v0geq2agqrag",
        "outputId": "eb9279c7-591e-4d49-c4bf-2ff1c2baaae2"
      },
      "outputs": [
        {
          "name": "stdout",
          "output_type": "stream",
          "text": [
            "Predicted class: ٩\n"
          ]
        }
      ],
      "source": [
        "predict_oc_image(label_map, loaded_model, '/content/digit_2.png')"
      ]
    },
    {
      "cell_type": "code",
      "execution_count": null,
      "metadata": {
        "colab": {
          "base_uri": "https://localhost:8080/"
        },
        "id": "bH_4DwX-K1VX",
        "outputId": "aedc4a0d-f649-4115-d880-57a24f72e8c0"
      },
      "outputs": [
        {
          "name": "stdout",
          "output_type": "stream",
          "text": [
            "Predicted class: ٧\n"
          ]
        }
      ],
      "source": [
        "predict_oc_image(label_map, loaded_model, '/content/test/٧/٧_1523.png')"
      ]
    },
    {
      "cell_type": "code",
      "execution_count": null,
      "metadata": {
        "id": "BuL1qbqi6IdY"
      },
      "outputs": [],
      "source": []
    }
  ],
  "metadata": {
    "colab": {
      "provenance": []
    },
    "kernelspec": {
      "display_name": "Python 3",
      "name": "python3"
    },
    "language_info": {
      "name": "python"
    }
  },
  "nbformat": 4,
  "nbformat_minor": 0
}